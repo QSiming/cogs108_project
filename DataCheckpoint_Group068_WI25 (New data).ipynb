{
 "cells": [
  {
   "cell_type": "markdown",
   "metadata": {},
   "source": [
    "**If you lost points on the last checkpoint you can get them back by responding to TA/IA feedback**  \n",
    "\n",
    "Update/change the relevant sections where you lost those points, make sure you respond on GitHub Issues to your TA/IA to call their attention to the changes you made here.\n",
    "\n",
    "Please update your Timeline... no battle plan survives contact with the enemy, so make sure we understand how your plans have changed."
   ]
  },
  {
   "cell_type": "markdown",
   "metadata": {},
   "source": [
    "# COGS 108 - Data Checkpoint"
   ]
  },
  {
   "cell_type": "markdown",
   "metadata": {},
   "source": [
    "# Names\n",
    "\n",
    "- Xinqi Huang\n",
    "- Po-Yu Lai\n",
    "- Siming Qi\n",
    "- Ruofei Mao\n",
    "- Minyan Shi"
   ]
  },
  {
   "cell_type": "markdown",
   "metadata": {},
   "source": [
    "# Research Question"
   ]
  },
  {
   "cell_type": "markdown",
   "metadata": {},
   "source": [
    "-  Include a specific, clear data science question.\n",
    "-  Make sure what you're measuring (variables) to answer the question is clear\n",
    "\n",
    "What is your research question? Include the specific question you're setting out to answer. This question should be specific, answerable with data, and clear. A general question with specific subquestions is permitted. (1-2 sentences)\n",
    "\n"
   ]
  },
  {
   "cell_type": "markdown",
   "metadata": {},
   "source": [
    "## Background and Prior Work"
   ]
  },
  {
   "cell_type": "markdown",
   "metadata": {},
   "source": [
    "\n",
    "- Include a general introduction to your topic\n",
    "- Include explanation of what work has been done previously\n",
    "- Include citations or links to previous work\n",
    "\n",
    "This section will present the background and context of your topic and question in a few paragraphs. Include a general introduction to your topic and then describe what information you currently know about the topic after doing your initial research. Include references to other projects who have asked similar questions or approached similar problems. Explain what others have learned in their projects.\n",
    "\n",
    "Find some relevant prior work, and reference those sources, summarizing what each did and what they learned. Even if you think you have a totally novel question, find the most similar prior work that you can and discuss how it relates to your project.\n",
    "\n",
    "References can be research publications, but they need not be. Blogs, GitHub repositories, company websites, etc., are all viable references if they are relevant to your project. It must be clear which information comes from which references. (2-3 paragraphs, including at least 2 references)\n",
    "\n",
    " **Use inline citation through HTML footnotes to specify which references support which statements** \n",
    "\n",
    "For example: After government genocide in the 20th century, real birds were replaced with surveillance drones designed to look just like birds.<a name=\"cite_ref-1\"></a>[<sup>1</sup>](#cite_note-1) Use a minimum of 2 or 3 citations, but we prefer more.<a name=\"cite_ref-2\"></a>[<sup>2</sup>](#cite_note-2) You need enough to fully explain and back up important facts. \n",
    "\n",
    "Note that if you click a footnote number in the paragraph above it will transport you to the proper entry in the footnotes list below.  And if you click the ^ in the footnote entry, it will return you to the place in the main text where the footnote is made.\n",
    "\n",
    "To understand the HTML here, `<a name=\"#...\"> </a>` is a tag that allows you produce a named reference for a given location.  Markdown has the construciton `[text with hyperlink](#named reference)` that will produce a clickable link that transports you the named reference.\n",
    "\n",
    "1. <a name=\"cite_note-1\"></a> [^](#cite_ref-1) Lorenz, T. (9 Dec 2021) Birds Aren’t Real, or Are They? Inside a Gen Z Conspiracy Theory. *The New York Times*. https://www.nytimes.com/2021/12/09/technology/birds-arent-real-gen-z-misinformation.html \n",
    "2. <a name=\"cite_note-2\"></a> [^](#cite_ref-2) Also refs should be important to the background, not some randomly chosen vaguely related stuff. Include a web link if possible in refs as above.\n"
   ]
  },
  {
   "cell_type": "markdown",
   "metadata": {},
   "source": [
    "# Hypothesis\n"
   ]
  },
  {
   "cell_type": "markdown",
   "metadata": {},
   "source": [
    "\n",
    "- Include your team's hypothesis\n",
    "- Ensure that this hypothesis is clear to readers\n",
    "- Explain why you think this will be the outcome (what was your thinking?)\n",
    "\n",
    "What is your main hypothesis/predictions about what the answer to your question is? Briefly explain your thinking. (2-3 sentences)"
   ]
  },
  {
   "cell_type": "markdown",
   "metadata": {},
   "source": [
    "# Data"
   ]
  },
  {
   "cell_type": "markdown",
   "metadata": {},
   "source": [
    "## Data overview\n",
    "\n",
    "### Crime Report Data\n",
    "\n",
    "- Dataset #1\n",
    "  - Dataset Name: Chicago Crime Report 2020-2024\n",
    "  - Link to the source: \\\n",
    "    https://data.cityofchicago.org/Public-Safety/Crimes-2020/qzdf-xmn8/about_data \\\n",
    "    https://data.cityofchicago.org/Public-Safety/Crimes-2022/9hwr-2zxp/about_data \\\n",
    "    https://data.cityofchicago.org/Public-Safety/Crimes-2023/xguy-4ndq/about_data \\\n",
    "    https://data.cityofchicago.org/Public-Safety/Crimes-2024/dqcy-ctma/about_data\n",
    "  - Link to combined dataset: https://github.com/COGS108/Group068_WI25/raw/refs/heads/master/cogs108-data/chicago_crime.csv.zip  (we basically just did a horizontal concatination to save space in here)\n",
    "  - Number of observations: 1181859\n",
    "  - Number of variables: 22\n",
    "  \n",
    "  We get the data from the official website for data portal of City of Chicago, and our dataset is in csv format. The dataset contains information about all reported crimes in Chicago from 2020 to 2024, including case identifier(id, case number, Illinois Uniform Crime Reporting code), date info(reported date, year, update time), location (longitude, latitude, district, block, police beat, ward, community area, FBI code), crime type (primary type, setting, domestic indicator), and status (arrest indicator). \n",
    "  \n",
    "  Key variables for analysis are \n",
    "  - Reported date: Date when the incident occurred for grouping purpose. \n",
    "  - Physical location: The latitude and longitute of the location where the incident occurred for ZIP code mapping\n",
    "  - Primary type: The type of crime('THEFT', 'BATTERY' etc), a total of 30 type recoreded for crime-specific analysis.\n",
    "  - Crime setting: The location setting of the crime(street, apartment etc) for indoor and outdoor analysis.\n",
    "  \n",
    "  To prepare the data, we would convert date variables to datetime objects, aggregate cases by month(date variable) to get monthly crime numbers, and group by crime type into three level of severity(crime type variable) and indoor/outdoor setting(crime setting variable) to reduce dimensionality.\n",
    "\n",
    "- Dataset #2\n",
    "  - Dataset Name: LA Crime Report 2020-Present\n",
    "  - Link to the dataset: https://data.lacity.org/Public-Safety/Crime-Data-from-2020-to-Present/2nrs-mtv8/about_data\n",
    "  - Number of observations: 1005050\n",
    "  - Number of variables: 28\n",
    "\n",
    "- Dataset #3 \n",
    "  - Dataset Name: Austin Crime Report 2003-Present\n",
    "  - Link to the dataset: https://data.austintexas.gov/Public-Safety/Crime-Reports/fdj4-gpfu/about_data\n",
    "  - Number of observations: 462349\n",
    "  - Number of variables: 19\n",
    "\n",
    " Dataset 2 and Data 3 includes all reported crimes in LA and Austin from 2020 to present and 2023 to present, with similar variables to the Chicago dataset. The same processing steps apply, with the additional task of filtering the data to retain only cases from 2020 to 2024.\n",
    "\n",
    "### Tempreture Data\n",
    "\n",
    "- Dataset #4 \n",
    "  - Dataset Name: Chicago Tempreture Report 2020-2024\n",
    "  - Link to dataset: https://meteostat.net/en/place/us/chicago?s=72534&t=2020-01-01/2024-12-31\n",
    "  - Number of observations: 1827\n",
    "  - Number of variables: 11\n",
    "\n",
    "- Dataset #5 \n",
    "  - Dataset Name: Austin Tempreture Report 2020-2024\n",
    "  - Link to dataset: https://meteostat.net/en/place/us/austin?s=72254&t=2020-01-01/2024-12-31\n",
    "  - Number of observations: 1827\n",
    "  - Number of variables: 11\n",
    "\n",
    "- Dataset #6 \n",
    "  - Dataset Name: LA Tempreture Report 2020-2024\n",
    "  - Link to source: \n",
    "  https://meteostat.net/en/place/us/chicago?s=72534&t=2020-01-01/2024-12-31\n",
    "  - Number of observations: 1827\n",
    "  - Number of variables: 11\n",
    "\n",
    "We obtained the data from Meteostat, a reliable weather record-keeping website. All datasets are in CSV format, containing daily temperature records for three cities from 2020 to 2024. Variables include date, temperature (daily average, max, and min), precipitation, snow indicator, wind (direction and speed), sunlight measures, and pressure. The key variables of interest are the daily average temperature and date. To prepare the data, we will group by month and calculate the average daily temperature to align with the monthly crime data from the crime dataset.\n",
    "\n",
    "\n",
    "### Chicago Zipcode data\n",
    "\n",
    "- Dataset #7\n",
    "  - Dataset Name: Chicago Indoor Outdoor location by zipcode\n",
    "  - Link to the source: \\\n",
    "  https://data.cityofchicago.org/Education/Libraries-Locations-Contact-Information-and-Usual-/x8fc-8rcq/about_data \\\n",
    "    https://data.cityofchicago.org/Community-Economic-Development/Business-Licenses-Current-Liquor-and-Public-Places/nrmj-3kcf/about_data \\\n",
    "  https://data.cityofchicago.org/Parks-Recreation/Parks-Chicago-Park-District-Park-Boundaries-curren/ej32-qgdr \\\n",
    "  https://data.cityofchicago.org/Community-Economic-Development/Affordable-Rental-Housing-Developments/s6ha-ppgi/about_data \\\n",
    "  https://data.cityofchicago.org/Community-Economic-Development/Business-Licenses/r5kz-chrr/about_data \\\n",
    "  https://data.cityofchicago.org/Community-Economic-Development/Sidewalk-Cafe-Permits/nxj5-ix6z/about_data \\\n",
    "  https://data.cityofchicago.org/Historic-Preservation/Mural-Registry/we8h-apcf/about_data\n",
    "  - Link to the dataset: https://github.com/COGS108/Group068_WI25/raw/refs/heads/master/cogs108-data/chicago_zipcode.csv.zip\n",
    "  - Number of observations: 49\n",
    "  - Number of variables: 8\n",
    "\n",
    "We obtained the dataset from the City of Chicago’s official data portal, with records of parks location, business licenses issued, liquor licenses issued, affordable rental housing location, sidewalk café permits, murals location, and libraries location, with their relative ZIP codes. Since no publicly available dataset exists, we constructed our own using seven datasets, grouping each by ZIP code and merging them. This dataset quantifies indoor and outdoor locations across 49 ZIP codes, providing metrics for analyzing temperature effects on indoor/outdoor crime patterns under a controlled experiment.\n",
    "\n",
    "- Dataset #9\n",
    "  - Dataset Name: Chicago Zipcode\n",
    "  - Link to the dataset: https://data.cityofchicago.org/Facilities-Geographic-Boundaries/Boundaries-ZIP-Codes-Map/gdcf-axmw\n",
    "  - Number of observations: 61\n",
    "  - Number of variables: 5\n",
    "\n",
    "This data contain the boundary record of all Chicago's zipcode. This is for mapping the Chicago crime rate data into zipcode using it's location columns."
   ]
  },
  {
   "cell_type": "markdown",
   "metadata": {},
   "source": [
    "# Setup"
   ]
  },
  {
   "cell_type": "code",
   "execution_count": null,
   "metadata": {},
   "outputs": [],
   "source": [
    "import pandas as pd\n",
    "import numpy as np\n",
    "import pandas as pd\n",
    "import numpy as np\n",
    "import pandas as pd\n",
    "import geopandas as gpd\n",
    "from shapely import wkt\n",
    "\n",
    "# since our dataset is too big, we can only upload zip file to github, to access the data\n",
    "# please clone the repo and unzip all files and replace the following with your desktop path\n",
    "desktop_path = \"\" #path to your desktop\n"
   ]
  },
  {
   "cell_type": "markdown",
   "metadata": {},
   "source": [
    "## Crime Data \n",
    "#### LA Crime Report, Chicago Crime Report, Austin Crime Report"
   ]
  },
  {
   "cell_type": "code",
   "execution_count": 80,
   "metadata": {},
   "outputs": [
    {
     "name": "stderr",
     "output_type": "stream",
     "text": [
      "/var/folders/bf/mf9fw9915q98qdc0k4pv6gnr0000gn/T/ipykernel_10117/2879919125.py:15: UserWarning: Could not infer format, so each element will be parsed individually, falling back to `dateutil`. To ensure parsing is consistent and as-expected, please specify a format.\n",
      "  la_crime['Date'] = pd.to_datetime(la_crime['Date'])\n"
     ]
    }
   ],
   "source": [
    "chicago_crime = pd.read_csv(f\"{desktop_path}/Group068_WI25/cogs108-data/chicago_crime.csv\")\n",
    "la_crime = pd.read_csv(f\"{desktop_path}/Group068_WI25/cogs108-data/la_crime.csv\")\n",
    "austin_crime = pd.read_csv(f\"{desktop_path}/Group068_WI25/cogs108-data/austin_crime.csv\")\n",
    "\n",
    "# keep variable of interest\n",
    "chicago_crime = chicago_crime[[\"Date\",\"Primary Type\", \"Location Description\", \"Location\"]]\n",
    "la_crime = la_crime[[\"DATE OCC\", 'Crm Cd Desc','Premis Desc']]\n",
    "austin_crime = austin_crime[[\"Occurred Date\",\"Category Description\",\"Location Type\"]]\n",
    "\n",
    "#standalized column name\n",
    "la_crime.columns = [\"Date\",\"Primary Type\", \"Location Description\"]\n",
    "austin_crime .columns = [\"Date\",\"Primary Type\", \"Location Description\"]\n",
    "\n",
    "#standalized date to datetime obj\n",
    "la_crime['Date'] = pd.to_datetime(la_crime['Date'])\n",
    "austin_crime['Date'] = pd.to_datetime(austin_crime['Date'])\n",
    "\n",
    "#keep year of interest 2020-2024\n",
    "la_crime = la_crime[(la_crime['Date'] > '2020-01-01') & (la_crime['Date'] < '2024-12-31')]\n",
    "austin_crime = austin_crime[(austin_crime['Date'] > '2020-01-01') & (austin_crime['Date'] < '2024-12-31')]"
   ]
  },
  {
   "cell_type": "markdown",
   "metadata": {},
   "source": [
    "## Tempreture Data \n",
    "#### LA Tempreture Report, Chicago Tempreture Report, Austin Tempreture Report"
   ]
  },
  {
   "cell_type": "code",
   "execution_count": 83,
   "metadata": {},
   "outputs": [],
   "source": [
    "chicago_temp = pd.read_csv(f\"{desktop_path}/Group068_WI25/cogs108-data/chicago_temp.csv\")\n",
    "austin_temp = pd.read_csv(f\"{desktop_path}/Group068_WI25/cogs108-data/austin_temp.csv\")\n",
    "la_temp = pd.read_csv(f\"{desktop_path}/Group068_WI25/cogs108-data/la_temp.csv\")\n",
    "\n",
    "#standalized date to datetime obj\n",
    "chicago_temp[\"date\"] = pd.to_datetime(chicago_temp[\"date\"])\n",
    "la_temp[\"date\"] = pd.to_datetime(la_temp[\"date\"])\n",
    "austin_temp[\"date\"] = pd.to_datetime(austin_temp[\"date\"])\n",
    "\n",
    "# feature engineering for season\n",
    "def get_season(date):\n",
    "    month = date.month\n",
    "    year = str(date.year)\n",
    "    if month in [12, 1, 2]:\n",
    "        return year + ' Winter'\n",
    "    elif month in [3, 4, 5]:\n",
    "        return year + ' Spring'\n",
    "    elif month in [6, 7, 8]:\n",
    "        return year + ' Summer'\n",
    "    else:  \n",
    "        return year + ' Fall'\n",
    "chicago_temp[\"season\"] = chicago_temp['date'].apply(get_season)\n",
    "la_temp[\"season\"] = la_temp['date'].apply(get_season)\n",
    "austin_temp[\"season\"] = austin_temp['date'].apply(get_season)\n",
    "\n",
    "# keep variable of interest\n",
    "chicago_temp = chicago_temp[[\"date\", \"tavg\"]]\n",
    "la_temp = la_temp[[\"date\", \"tavg\"]]\n",
    "austin_temp = austin_temp[[\"date\", \"tavg\"]]"
   ]
  },
  {
   "cell_type": "markdown",
   "metadata": {},
   "source": [
    "## Chicago Zipcode Data "
   ]
  },
  {
   "cell_type": "code",
   "execution_count": 85,
   "metadata": {},
   "outputs": [],
   "source": [
    "chicago_zipcode = pd.read_csv(f\"{desktop_path}/Group068_WI25/cogs108-data/chicago_zipcode.csv\")\n",
    "\n",
    "# fillna with 0 since there is no records meaning there is no count of certain infrastructure\n",
    "chicago_zipcode = chicago_zipcode.fillna(0)"
   ]
  },
  {
   "cell_type": "code",
   "execution_count": 86,
   "metadata": {},
   "outputs": [
    {
     "data": {
      "text/html": [
       "<div>\n",
       "<style scoped>\n",
       "    .dataframe tbody tr th:only-of-type {\n",
       "        vertical-align: middle;\n",
       "    }\n",
       "\n",
       "    .dataframe tbody tr th {\n",
       "        vertical-align: top;\n",
       "    }\n",
       "\n",
       "    .dataframe thead th {\n",
       "        text-align: right;\n",
       "    }\n",
       "</style>\n",
       "<table border=\"1\" class=\"dataframe\">\n",
       "  <thead>\n",
       "    <tr style=\"text-align: right;\">\n",
       "      <th></th>\n",
       "      <th>Date</th>\n",
       "      <th>Primary Type</th>\n",
       "      <th>Location Description</th>\n",
       "      <th>zipcode</th>\n",
       "    </tr>\n",
       "  </thead>\n",
       "  <tbody>\n",
       "    <tr>\n",
       "      <th>0</th>\n",
       "      <td>12/31/2020 11:59:00 PM</td>\n",
       "      <td>THEFT</td>\n",
       "      <td>PARKING LOT / GARAGE (NON RESIDENTIAL)</td>\n",
       "      <td>60639</td>\n",
       "    </tr>\n",
       "    <tr>\n",
       "      <th>1</th>\n",
       "      <td>12/31/2020 11:51:00 PM</td>\n",
       "      <td>BATTERY</td>\n",
       "      <td>STREET</td>\n",
       "      <td>60623</td>\n",
       "    </tr>\n",
       "    <tr>\n",
       "      <th>3</th>\n",
       "      <td>12/31/2020 11:45:00 PM</td>\n",
       "      <td>CRIMINAL DAMAGE</td>\n",
       "      <td>APARTMENT</td>\n",
       "      <td>60637</td>\n",
       "    </tr>\n",
       "    <tr>\n",
       "      <th>4</th>\n",
       "      <td>12/31/2020 11:45:00 PM</td>\n",
       "      <td>THEFT</td>\n",
       "      <td>RESIDENCE</td>\n",
       "      <td>60615</td>\n",
       "    </tr>\n",
       "    <tr>\n",
       "      <th>6</th>\n",
       "      <td>12/31/2020 11:45:00 PM</td>\n",
       "      <td>THEFT</td>\n",
       "      <td>RESIDENCE</td>\n",
       "      <td>60641</td>\n",
       "    </tr>\n",
       "    <tr>\n",
       "      <th>...</th>\n",
       "      <td>...</td>\n",
       "      <td>...</td>\n",
       "      <td>...</td>\n",
       "      <td>...</td>\n",
       "    </tr>\n",
       "    <tr>\n",
       "      <th>1181854</th>\n",
       "      <td>01/01/2024 12:00:00 AM</td>\n",
       "      <td>OTHER OFFENSE</td>\n",
       "      <td>APARTMENT</td>\n",
       "      <td>60644</td>\n",
       "    </tr>\n",
       "    <tr>\n",
       "      <th>1181855</th>\n",
       "      <td>01/01/2024 12:00:00 AM</td>\n",
       "      <td>DECEPTIVE PRACTICE</td>\n",
       "      <td>RESIDENCE</td>\n",
       "      <td>60628</td>\n",
       "    </tr>\n",
       "    <tr>\n",
       "      <th>1181856</th>\n",
       "      <td>01/01/2024 12:00:00 AM</td>\n",
       "      <td>CRIMINAL DAMAGE</td>\n",
       "      <td>RESIDENCE</td>\n",
       "      <td>60628</td>\n",
       "    </tr>\n",
       "    <tr>\n",
       "      <th>1181857</th>\n",
       "      <td>01/01/2024 12:00:00 AM</td>\n",
       "      <td>THEFT</td>\n",
       "      <td>RESIDENCE</td>\n",
       "      <td>60624</td>\n",
       "    </tr>\n",
       "    <tr>\n",
       "      <th>1181858</th>\n",
       "      <td>01/01/2024 12:00:00 AM</td>\n",
       "      <td>THEFT</td>\n",
       "      <td>PARKING LOT / GARAGE (NON RESIDENTIAL)</td>\n",
       "      <td>60609</td>\n",
       "    </tr>\n",
       "  </tbody>\n",
       "</table>\n",
       "<p>1080853 rows × 4 columns</p>\n",
       "</div>"
      ],
      "text/plain": [
       "                           Date        Primary Type  \\\n",
       "0        12/31/2020 11:59:00 PM               THEFT   \n",
       "1        12/31/2020 11:51:00 PM             BATTERY   \n",
       "3        12/31/2020 11:45:00 PM     CRIMINAL DAMAGE   \n",
       "4        12/31/2020 11:45:00 PM               THEFT   \n",
       "6        12/31/2020 11:45:00 PM               THEFT   \n",
       "...                         ...                 ...   \n",
       "1181854  01/01/2024 12:00:00 AM       OTHER OFFENSE   \n",
       "1181855  01/01/2024 12:00:00 AM  DECEPTIVE PRACTICE   \n",
       "1181856  01/01/2024 12:00:00 AM     CRIMINAL DAMAGE   \n",
       "1181857  01/01/2024 12:00:00 AM               THEFT   \n",
       "1181858  01/01/2024 12:00:00 AM               THEFT   \n",
       "\n",
       "                           Location Description zipcode  \n",
       "0        PARKING LOT / GARAGE (NON RESIDENTIAL)   60639  \n",
       "1                                        STREET   60623  \n",
       "3                                     APARTMENT   60637  \n",
       "4                                     RESIDENCE   60615  \n",
       "6                                     RESIDENCE   60641  \n",
       "...                                         ...     ...  \n",
       "1181854                               APARTMENT   60644  \n",
       "1181855                               RESIDENCE   60628  \n",
       "1181856                               RESIDENCE   60628  \n",
       "1181857                               RESIDENCE   60624  \n",
       "1181858  PARKING LOT / GARAGE (NON RESIDENTIAL)   60609  \n",
       "\n",
       "[1080853 rows x 4 columns]"
      ]
     },
     "execution_count": 86,
     "metadata": {},
     "output_type": "execute_result"
    }
   ],
   "source": [
    "# map the zipcode of chicago crime data\n",
    "zip_df = pd.read_csv(f\"{desktop_path}/Group068_WI25/cogs108-data/chicago_zip.csv\")\n",
    "zip_df['the_geom'] = zip_df['the_geom'].apply(lambda x: wkt.loads(x) if pd.notnull(x) else None)\n",
    "zip_gdf = gpd.GeoDataFrame(zip_df, geometry='the_geom', crs=\"EPSG:4326\")\n",
    "\n",
    "chicago_crime['geometry'] = chicago_crime['Location'].apply(lambda x: wkt.loads(x) if pd.notnull(x) else None)\n",
    "final_crime = gpd.GeoDataFrame(chicago_crime, geometry='geometry', crs=\"EPSG:4326\")\n",
    "crime_with_zip = gpd.sjoin(final_crime, zip_gdf[['ZIP', 'the_geom']], how=\"left\", predicate='within')\n",
    "\n",
    "crime_with_zip.rename(columns={'ZIP': 'zipcode'}, inplace=True)\n",
    "crime_with_zip.drop(columns=['index_right'], inplace=True)\n",
    "crime_with_zip.drop(columns = [\"Location\",\"geometry\"], inplace = True)\n",
    "crime_with_zip[\"zipcode\"] = crime_with_zip[\"zipcode\"].apply(\n",
    "    lambda x: str(x).split(\".\")[0] if pd.notna(x) else x\n",
    ")\n",
    "\n",
    "#only keep zipcode of crime that we have record of the number of indoor/outdoor locatoin\n",
    "chicago_crime = crime_with_zip[crime_with_zip['zipcode'].isin([str(i) for i in chicago_zipcode['zipcode']])]\n",
    "chicago_crime\n"
   ]
  },
  {
   "cell_type": "markdown",
   "metadata": {},
   "source": [
    "# Ethics & Privacy"
   ]
  },
  {
   "cell_type": "markdown",
   "metadata": {},
   "source": [
    "- Thoughtful discussion of ethical concerns included\n",
    "- Ethical concerns consider the whole data science process (question asked, data collected, data being used, the bias in data, analysis, post-analysis, etc.)\n",
    "- How your group handled bias/ethical concerns clearly described\n",
    "\n",
    "Acknowledge and address any ethics & privacy related issues of your question(s), proposed dataset(s), and/or analyses. Use the information provided in lecture to guide your group discussion and thinking. If you need further guidance, check out [Deon's Ethics Checklist](http://deon.drivendata.org/#data-science-ethics-checklist). In particular:\n",
    "\n",
    "- Are there any biases/privacy/terms of use issues with the data you propsed?\n",
    "- Are there potential biases in your dataset(s), in terms of who it composes, and how it was collected, that may be problematic in terms of it allowing for equitable analysis? (For example, does your data exclude particular populations, or is it likely to reflect particular human biases in a way that could be a problem?)\n",
    "- How will you set out to detect these specific biases before, during, and after/when communicating your analysis?\n",
    "- Are there any other issues related to your topic area, data, and/or analyses that are potentially problematic in terms of data privacy and equitable impact?\n",
    "- How will you handle issues you identified?"
   ]
  },
  {
   "cell_type": "markdown",
   "metadata": {},
   "source": [
    "# Team Expectations "
   ]
  },
  {
   "cell_type": "markdown",
   "metadata": {},
   "source": [
    "\n",
    "Read over the [COGS108 Team Policies](https://github.com/COGS108/Projects/blob/master/COGS108_TeamPolicies.md) individually. Then, include your group’s expectations of one another for successful completion of your COGS108 project below. Discuss and agree on what all of your expectations are. Discuss how your team will communicate throughout the quarter and consider how you will communicate respectfully should conflicts arise. By including each member’s name above and by adding their name to the submission, you are indicating that you have read the COGS108 Team Policies, accept your team’s expectations below, and have every intention to fulfill them. These expectations are for your team’s use and benefit — they won’t be graded for their details.\n",
    "\n",
    "* *Team Expectation 1*\n",
    "* *Team Expectation 2*\n",
    "* *Team Expecation 3*\n",
    "* ..."
   ]
  },
  {
   "cell_type": "markdown",
   "metadata": {},
   "source": [
    "# Project Timeline Proposal"
   ]
  },
  {
   "cell_type": "markdown",
   "metadata": {},
   "source": [
    "Specify your team's specific project timeline. An example timeline has been provided. Changes the dates, times, names, and details to fit your group's plan.\n",
    "\n",
    "If you think you will need any special resources or training outside what we have covered in COGS 108 to solve your problem, then your proposal should state these clearly. For example, if you have selected a problem that involves implementing multiple neural networks, please state this so we can make sure you know what you’re doing and so we can point you to resources you will need to implement your project. Note that you are not required to use outside methods.\n",
    "\n",
    "\n",
    "\n",
    "| Meeting Date  | Meeting Time| Completed Before Meeting  | Discuss at Meeting |\n",
    "|---|---|---|---|\n",
    "| 1/20  |  1 PM | Read & Think about COGS 108 expectations; brainstorm topics/questions  | Determine best form of communication; Discuss and decide on final project topic; discuss hypothesis; begin background research | \n",
    "| 1/26  |  10 AM |  Do background research on topic | Discuss ideal dataset(s) and ethics; draft project proposal | \n",
    "| 2/1  | 10 AM  | Edit, finalize, and submit proposal; Search for datasets  | Discuss Wrangling and possible analytical approaches; Assign group members to lead each specific part   |\n",
    "| 2/14  | 6 PM  | Import & Wrangle Data (Ant Man); EDA (Hulk) | Review/Edit wrangling/EDA; Discuss Analysis Plan   |\n",
    "| 2/23  | 12 PM  | Finalize wrangling/EDA; Begin Analysis (Iron Man; Thor) | Discuss/edit Analysis; Complete project check-in |\n",
    "| 3/13  | 12 PM  | Complete analysis; Draft results/conclusion/discussion (Wasp)| Discuss/edit full project |\n",
    "| 3/20  | Before 11:59 PM  | NA | Turn in Final Project & Group Project Surveys |"
   ]
  }
 ],
 "metadata": {
  "kernelspec": {
   "display_name": "dsc80",
   "language": "python",
   "name": "python3"
  },
  "language_info": {
   "codemirror_mode": {
    "name": "ipython",
    "version": 3
   },
   "file_extension": ".py",
   "mimetype": "text/x-python",
   "name": "python",
   "nbconvert_exporter": "python",
   "pygments_lexer": "ipython3",
   "version": "3.8.16"
  }
 },
 "nbformat": 4,
 "nbformat_minor": 2
}
